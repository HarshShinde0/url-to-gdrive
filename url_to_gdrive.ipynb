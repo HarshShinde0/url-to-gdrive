{
  "nbformat": 4,
  "nbformat_minor": 0,
  "metadata": {
    "colab": {
      "provenance": [],
      "authorship_tag": "ABX9TyNhsgDSi+UJxvdm03kaIU1L",
      "include_colab_link": true
    },
    "kernelspec": {
      "name": "python3",
      "display_name": "Python 3"
    },
    "language_info": {
      "name": "python"
    }
  },
  "cells": [
    {
      "cell_type": "markdown",
      "metadata": {
        "id": "view-in-github",
        "colab_type": "text"
      },
      "source": [
        "<a href=\"https://colab.research.google.com/github/HarshShinde0/url-to-gdrive/blob/main/url_to_gdrive.ipynb\" target=\"_parent\"><img src=\"https://colab.research.google.com/assets/colab-badge.svg\" alt=\"Open In Colab\"/></a>"
      ]
    },
    {
      "cell_type": "code",
      "execution_count": 1,
      "metadata": {
        "colab": {
          "base_uri": "https://localhost:8080/"
        },
        "id": "-FTV-enTDSRa",
        "outputId": "5330a4f2-82bd-4398-ff2d-c01877595cec"
      },
      "outputs": [
        {
          "output_type": "stream",
          "name": "stdout",
          "text": [
            "Requirement already satisfied: requests in /usr/local/lib/python3.11/dist-packages (2.32.3)\n",
            "Requirement already satisfied: pydrive in /usr/local/lib/python3.11/dist-packages (1.3.1)\n",
            "Requirement already satisfied: charset-normalizer<4,>=2 in /usr/local/lib/python3.11/dist-packages (from requests) (3.4.2)\n",
            "Requirement already satisfied: idna<4,>=2.5 in /usr/local/lib/python3.11/dist-packages (from requests) (3.10)\n",
            "Requirement already satisfied: urllib3<3,>=1.21.1 in /usr/local/lib/python3.11/dist-packages (from requests) (2.4.0)\n",
            "Requirement already satisfied: certifi>=2017.4.17 in /usr/local/lib/python3.11/dist-packages (from requests) (2025.4.26)\n",
            "Requirement already satisfied: google-api-python-client>=1.2 in /usr/local/lib/python3.11/dist-packages (from pydrive) (2.169.0)\n",
            "Requirement already satisfied: oauth2client>=4.0.0 in /usr/local/lib/python3.11/dist-packages (from pydrive) (4.1.3)\n",
            "Requirement already satisfied: PyYAML>=3.0 in /usr/local/lib/python3.11/dist-packages (from pydrive) (6.0.2)\n",
            "Requirement already satisfied: httplib2<1.0.0,>=0.19.0 in /usr/local/lib/python3.11/dist-packages (from google-api-python-client>=1.2->pydrive) (0.22.0)\n",
            "Requirement already satisfied: google-auth!=2.24.0,!=2.25.0,<3.0.0,>=1.32.0 in /usr/local/lib/python3.11/dist-packages (from google-api-python-client>=1.2->pydrive) (2.38.0)\n",
            "Requirement already satisfied: google-auth-httplib2<1.0.0,>=0.2.0 in /usr/local/lib/python3.11/dist-packages (from google-api-python-client>=1.2->pydrive) (0.2.0)\n",
            "Requirement already satisfied: google-api-core!=2.0.*,!=2.1.*,!=2.2.*,!=2.3.0,<3.0.0,>=1.31.5 in /usr/local/lib/python3.11/dist-packages (from google-api-python-client>=1.2->pydrive) (2.24.2)\n",
            "Requirement already satisfied: uritemplate<5,>=3.0.1 in /usr/local/lib/python3.11/dist-packages (from google-api-python-client>=1.2->pydrive) (4.1.1)\n",
            "Requirement already satisfied: pyasn1>=0.1.7 in /usr/local/lib/python3.11/dist-packages (from oauth2client>=4.0.0->pydrive) (0.6.1)\n",
            "Requirement already satisfied: pyasn1-modules>=0.0.5 in /usr/local/lib/python3.11/dist-packages (from oauth2client>=4.0.0->pydrive) (0.4.2)\n",
            "Requirement already satisfied: rsa>=3.1.4 in /usr/local/lib/python3.11/dist-packages (from oauth2client>=4.0.0->pydrive) (4.9.1)\n",
            "Requirement already satisfied: six>=1.6.1 in /usr/local/lib/python3.11/dist-packages (from oauth2client>=4.0.0->pydrive) (1.17.0)\n",
            "Requirement already satisfied: googleapis-common-protos<2.0.0,>=1.56.2 in /usr/local/lib/python3.11/dist-packages (from google-api-core!=2.0.*,!=2.1.*,!=2.2.*,!=2.3.0,<3.0.0,>=1.31.5->google-api-python-client>=1.2->pydrive) (1.70.0)\n",
            "Requirement already satisfied: protobuf!=3.20.0,!=3.20.1,!=4.21.0,!=4.21.1,!=4.21.2,!=4.21.3,!=4.21.4,!=4.21.5,<7.0.0,>=3.19.5 in /usr/local/lib/python3.11/dist-packages (from google-api-core!=2.0.*,!=2.1.*,!=2.2.*,!=2.3.0,<3.0.0,>=1.31.5->google-api-python-client>=1.2->pydrive) (5.29.4)\n",
            "Requirement already satisfied: proto-plus<2.0.0,>=1.22.3 in /usr/local/lib/python3.11/dist-packages (from google-api-core!=2.0.*,!=2.1.*,!=2.2.*,!=2.3.0,<3.0.0,>=1.31.5->google-api-python-client>=1.2->pydrive) (1.26.1)\n",
            "Requirement already satisfied: cachetools<6.0,>=2.0.0 in /usr/local/lib/python3.11/dist-packages (from google-auth!=2.24.0,!=2.25.0,<3.0.0,>=1.32.0->google-api-python-client>=1.2->pydrive) (5.5.2)\n",
            "Requirement already satisfied: pyparsing!=3.0.0,!=3.0.1,!=3.0.2,!=3.0.3,<4,>=2.4.2 in /usr/local/lib/python3.11/dist-packages (from httplib2<1.0.0,>=0.19.0->google-api-python-client>=1.2->pydrive) (3.2.3)\n"
          ]
        }
      ],
      "source": [
        "!pip install requests pydrive tqdm -q"
      ]
    },
    {
      "cell_type": "markdown",
      "source": [
        "# **Download File from Link**"
      ],
      "metadata": {
        "id": "7BhUDjCmDzAc"
      }
    },
    {
      "cell_type": "code",
      "source": [
        "import requests\n",
        "from tqdm import tqdm  # For a clean progress bar\n",
        "\n",
        "# Step 1: Get URL from user\n",
        "url = input(\"Enter the download URL: \").strip()\n",
        "filename = url.split('/')[-1].split('?')[0]\n",
        "\n",
        "# Step 2: Download with progress bar\n",
        "def download_file(url, filename):\n",
        "    print(f\"Downloading from {url}...\")\n",
        "    with requests.get(url, stream=True) as r:\n",
        "        r.raise_for_status()\n",
        "        total_size = int(r.headers.get('content-length', 0))\n",
        "        block_size = 8192  # 8 KB\n",
        "        t = tqdm(total=total_size, unit='B', unit_scale=True, desc=filename)\n",
        "        with open(filename, 'wb') as f:\n",
        "            for chunk in r.iter_content(chunk_size=block_size):\n",
        "                f.write(chunk)\n",
        "                t.update(len(chunk))\n",
        "        t.close()\n",
        "    print(f\"✅ Download complete: {filename}\")\n",
        "    return filename\n",
        "\n",
        "# Run download\n",
        "download_file(url, filename)"
      ],
      "metadata": {
        "colab": {
          "base_uri": "https://localhost:8080/",
          "height": 105
        },
        "id": "0hwxpzu8DiKw",
        "outputId": "2a492d11-f261-471b-e9a2-a29cf5e88140"
      },
      "execution_count": 5,
      "outputs": [
        {
          "output_type": "stream",
          "name": "stdout",
          "text": [
            "Enter the download URL: https://ftp.osuosl.org/pub/osgeo/download/qgis/windows/QGISQT6-OSGeo4W-3.42.3-1.msi?MU\n",
            "Downloading from https://ftp.osuosl.org/pub/osgeo/download/qgis/windows/QGISQT6-OSGeo4W-3.42.3-1.msi?MU...\n"
          ]
        },
        {
          "output_type": "stream",
          "name": "stderr",
          "text": [
            "QGISQT6-OSGeo4W-3.42.3-1.msi: 100%|██████████| 1.31G/1.31G [00:21<00:00, 60.3MB/s]"
          ]
        },
        {
          "output_type": "stream",
          "name": "stdout",
          "text": [
            "✅ Download complete: QGISQT6-OSGeo4W-3.42.3-1.msi\n"
          ]
        },
        {
          "output_type": "stream",
          "name": "stderr",
          "text": [
            "\n"
          ]
        },
        {
          "output_type": "execute_result",
          "data": {
            "text/plain": [
              "'QGISQT6-OSGeo4W-3.42.3-1.msi'"
            ],
            "application/vnd.google.colaboratory.intrinsic+json": {
              "type": "string"
            }
          },
          "metadata": {},
          "execution_count": 5
        }
      ]
    },
    {
      "cell_type": "markdown",
      "source": [
        "# **Upload to Google Drive**"
      ],
      "metadata": {
        "id": "AGQx0xFDD46R"
      }
    },
    {
      "cell_type": "code",
      "source": [
        "# Authenticate\n",
        "from google.colab import auth\n",
        "auth.authenticate_user()\n",
        "\n",
        "# Imports\n",
        "import os\n",
        "import google.auth\n",
        "from googleapiclient.discovery import build\n",
        "from googleapiclient.http import MediaFileUpload\n",
        "\n",
        "# Get user credentials and build the Drive API service\n",
        "creds, _ = google.auth.default()\n",
        "service = build('drive', 'v3', credentials=creds)\n",
        "\n",
        "# Ask for the file to upload\n",
        "filename = input(\"Enter the filename to upload to Google Drive: \").strip()\n",
        "\n",
        "# Upload file to Google Drive\n",
        "if os.path.exists(filename):\n",
        "    print(f\"Uploading {filename}...\")\n",
        "    file_metadata = {'name': filename}\n",
        "    media = MediaFileUpload(filename, resumable=True)\n",
        "    uploaded_file = service.files().create(\n",
        "        body=file_metadata,\n",
        "        media_body=media,\n",
        "        fields='id'\n",
        "    ).execute()\n",
        "\n",
        "    # Make the file publicly accessible\n",
        "    service.permissions().create(\n",
        "        fileId=uploaded_file['id'],\n",
        "        body={'type': 'anyone', 'role': 'reader'}\n",
        "    ).execute()\n",
        "\n",
        "    # Display shareable link\n",
        "    print(\"✅ Upload complete!\")\n",
        "    print(f\"🔗 File link: https://drive.google.com/file/d/{uploaded_file['id']}/view\")\n",
        "else:\n",
        "    print(\"❌ File does not exist.\")"
      ],
      "metadata": {
        "colab": {
          "base_uri": "https://localhost:8080/"
        },
        "id": "WOD_7M55Dssl",
        "outputId": "7cfc3413-16b2-4508-9207-0bd4e6c19f66"
      },
      "execution_count": 8,
      "outputs": [
        {
          "output_type": "stream",
          "name": "stdout",
          "text": [
            "Enter the filename to upload to Google Drive: /content/QGISQT6-OSGeo4W-3.42.3-1.msi\n",
            "Uploading /content/QGISQT6-OSGeo4W-3.42.3-1.msi...\n",
            "✅ Upload complete!\n",
            "🔗 File link: https://drive.google.com/file/d/1tHcqbmqoywiq0cWJViOZLRTdPiK4GKrW/view\n"
          ]
        }
      ]
    }
  ]
}